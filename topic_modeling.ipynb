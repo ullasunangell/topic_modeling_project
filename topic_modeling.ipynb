{
 "cells": [
  {
   "cell_type": "code",
   "execution_count": 3,
   "metadata": {},
   "outputs": [
    {
     "name": "stdout",
     "output_type": "stream",
     "text": [
      "Missing values per column:\\n Title        0\n",
      "Text         3\n",
      "Upvotes      0\n",
      "Comments     0\n",
      "Timestamp    0\n",
      "URL          0\n",
      "dtype: int64\n",
      "✅ Cleaned dataset saved: 341 posts\n"
     ]
    }
   ],
   "source": [
    "import pandas as pd\n",
    "\n",
    "df = pd.read_csv(\"data/stocks_raw_454_posts.csv\")\n",
    "\n",
    "# check for missing values\n",
    "print(\"Missing values per column:\\\\n\", df.isnull().sum())\n",
    "# drop rows where 'Text' is empty (optional)\n",
    "df = df[df[\"Text\"].str.strip() != \"\"]\n",
    "# check for duplicates (based on title + text)\n",
    "df.drop_duplicates(subset=[\"Title\", \"Text\"], inplace=True)\n",
    "\n",
    "# save cleaned data\n",
    "df.to_csv(\"data/stocks_cleaned.csv\", index=False)\n",
    "print(f\"✅ Cleaned dataset saved: {len(df)} posts\")"
   ]
  },
  {
   "cell_type": "code",
   "execution_count": null,
   "metadata": {},
   "outputs": [
    {
     "name": "stdout",
     "output_type": "stream",
     "text": [
      "✅ Combined dataset saved: 468 posts\n"
     ]
    }
   ],
   "source": [
    "# import glob\n",
    "\n",
    "# csv_files = [\"data/stocks_raw_500_posts.csv\", \"data/stocks_raw_454_posts.csv\"]\n",
    "# df_list = [pd.read_csv(file) for file in csv_files]\n",
    "# df = pd.concat(df_list, ignore_index=True)\n",
    "\n",
    "# df.drop_duplicates(subset=[\"Title\", \"Text\"], inplace=True)\n",
    "\n",
    "# df.to_csv(\"data/stocks_combined.csv\", index=False)\n",
    "# print(f\"✅ Combined dataset saved: {len(df)} posts\")"
   ]
  },
  {
   "cell_type": "code",
   "execution_count": 6,
   "metadata": {},
   "outputs": [
    {
     "name": "stderr",
     "output_type": "stream",
     "text": [
      "[nltk_data] Error loading stopwords: <urlopen error [SSL:\n",
      "[nltk_data]     CERTIFICATE_VERIFY_FAILED] certificate verify failed:\n",
      "[nltk_data]     unable to get local issuer certificate (_ssl.c:1000)>\n",
      "[nltk_data] Error loading punkt: <urlopen error [SSL:\n",
      "[nltk_data]     CERTIFICATE_VERIFY_FAILED] certificate verify failed:\n",
      "[nltk_data]     unable to get local issuer certificate (_ssl.c:1000)>\n"
     ]
    },
    {
     "data": {
      "text/plain": [
       "False"
      ]
     },
     "execution_count": 6,
     "metadata": {},
     "output_type": "execute_result"
    }
   ],
   "source": [
    "import nltk\n",
    "nltk.download('stopwords')\n",
    "nltk.download('punkt')"
   ]
  }
 ],
 "metadata": {
  "kernelspec": {
   "display_name": ".venv",
   "language": "python",
   "name": "python3"
  },
  "language_info": {
   "codemirror_mode": {
    "name": "ipython",
    "version": 3
   },
   "file_extension": ".py",
   "mimetype": "text/x-python",
   "name": "python",
   "nbconvert_exporter": "python",
   "pygments_lexer": "ipython3",
   "version": "3.12.0"
  }
 },
 "nbformat": 4,
 "nbformat_minor": 2
}
